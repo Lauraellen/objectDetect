{
 "cells": [
  {
   "cell_type": "code",
   "execution_count": 1,
   "id": "147c88ff",
   "metadata": {},
   "outputs": [],
   "source": [
    "import cv2 #importanto biblioteca\n",
    "\n",
    "arqCasc1 = 'haarcascade_frontalface_default.xml' #arquivo padrão para reconhecimento de face\n",
    "arqCasc2 = 'haarcascade_eye.xml' #arquivo padrão para reconhecimento de olho\n",
    "arqCasc3 = 'haarcascade_eye_tree_eyeglasses.xml' #arquivo padrão para reconhecimento de olho com óculos\n",
    "faceCascade1 = cv2.CascadeClassifier(arqCasc1) #classificador para o rosto\n",
    "faceCascade2 = cv2.CascadeClassifier(arqCasc2) #classificador para os olhos\n",
    "faceCascade3 = cv2.CascadeClassifier(arqCasc3) #classificador para os olhos com óculos\n",
    "\n",
    "webcam = cv2.VideoCapture(0)  #instancia o uso da webcam\n",
    "\n",
    "while True:\n",
    "    s, imagem = webcam.read() #pega efeticamente a imagem da webcam\n",
    "    imagem = cv2.flip(imagem,180) #espelha a imagem\n",
    "\n",
    "    faces = faceCascade1.detectMultiScale(\n",
    "        imagem,\n",
    "        minNeighbors=20,   #minimo de vizinhos\n",
    "        minSize=(30, 30),  #tamanho minimo a ser considerado\n",
    "\tmaxSize=(300,300)      #tamanho maximo a ser considerado\n",
    "    )\n",
    "\n",
    "    olhos = faceCascade2.detectMultiScale(\n",
    "        imagem,\n",
    "        minNeighbors=20,   #minimo de vizinhos\n",
    "        minSize=(10, 10),  #tamanho minimo a ser considerado\n",
    "\tmaxSize=(90,90)        #tamanho maximo a ser considerado\n",
    "    )\n",
    "    \n",
    "    olhos_oculos = faceCascade3.detectMultiScale(\n",
    "        imagem,\n",
    "        minNeighbors=20,   #minimo de vizinhos\n",
    "        minSize=(10, 10),  #tamanho minimo a ser considerado\n",
    "\tmaxSize=(90,90)        #tamanho maximo a ser considerado\n",
    "    )\n",
    "\n",
    "    # Desenha um retangulo nas faces e olhos detectados\n",
    "    for (x, y, w, h) in faces:\n",
    "        cv2.rectangle(imagem, (x, y), (x+w, y+h), (0, 255, 0), 4)\n",
    "\n",
    "    for (x, y, w, h) in olhos:\n",
    "        cv2.rectangle(imagem, (x, y), (x+w, y+h), (255, 0, 0), 2)\n",
    "        \n",
    "    for (x, y, w, h) in olhos_oculos:\n",
    "        cv2.rectangle(imagem, (x, y), (x+w, y+h), (255, 0, 0), 2)\n",
    "        \n",
    "\n",
    "    cv2.imshow('Video', imagem) #mostra a imagem captura na janela\n",
    "\n",
    "    #o trecho seguinte e apenas para parar o codigo e fechar a janela\n",
    "    if cv2.waitKey(1) & 0xFF == ord('q'):\n",
    "        break\n",
    "\n",
    "webcam.release() #dispensa o uso da webcam\n",
    "cv2.destroyAllWindows() #fecha todas a janelas abertas"
   ]
  },
  {
   "cell_type": "code",
   "execution_count": null,
   "id": "69a404a9",
   "metadata": {},
   "outputs": [],
   "source": []
  },
  {
   "cell_type": "code",
   "execution_count": null,
   "id": "9f09bb27",
   "metadata": {},
   "outputs": [],
   "source": []
  }
 ],
 "metadata": {
  "kernelspec": {
   "display_name": "Python 3 (ipykernel)",
   "language": "python",
   "name": "python3"
  },
  "language_info": {
   "codemirror_mode": {
    "name": "ipython",
    "version": 3
   },
   "file_extension": ".py",
   "mimetype": "text/x-python",
   "name": "python",
   "nbconvert_exporter": "python",
   "pygments_lexer": "ipython3",
   "version": "3.10.2"
  }
 },
 "nbformat": 4,
 "nbformat_minor": 5
}
